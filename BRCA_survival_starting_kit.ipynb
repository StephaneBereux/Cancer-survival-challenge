{
 "cells": [
  {
   "cell_type": "markdown",
   "metadata": {},
   "source": [
    "# <center>Breast cancer survival prediction</center>"
   ]
  },
  {
   "cell_type": "markdown",
   "metadata": {},
   "source": [
    "### Table of contents\n",
    "\n",
    "1. [Introduction](#introduction)\n",
    "2. [Data exploration](#data_exploration)\n",
    "    1. [Python requirements](#python_requirements)\n",
    "    2. [Getting the data](#getting_data)\n",
    "    3. [Baseline model](#baseline_model)\n",
    "3. [Submission](#submission)\n"
   ]
  },
  {
   "cell_type": "markdown",
   "metadata": {},
   "source": [
    "## Introduction <a name=\"introduction\"></a>\n",
    "\n",
    "Breast cancer is one of the most common cancers and the second leading cause of cancer death among women in the United States. One in nine women will be diagnosed with breast cancer in her lifetime ([INCa avril 2016](https://www.ligue-cancer.net/article/26094_cancer-du-sein)). Approximately 70\\% of breast cancer patients are inoperable because of advanced tumor growth or bone metastasis [Min Tao et al.](https://pubmed.ncbi.nlm.nih.gov/21512769/). \n",
    "\n",
    "It is therefore crucial to be able to accurately diagnose the disease, and to better understand the aggravating factors. Here we propose to predict the survival based on the genetic factors of the tumour."
   ]
  },
  {
   "cell_type": "markdown",
   "metadata": {},
   "source": [
    "## Data exploration <a name=\"data_exploration\"></a>\n",
    "\n",
    "### Python requirements <a name=\"python_requirements\"></a>\n",
    "\n",
    "In order to collect and analyse the data, the following Python libraries are required :\n",
    "\n"
   ]
  },
  {
   "cell_type": "code",
   "execution_count": 1,
   "metadata": {},
   "outputs": [
    {
     "name": "stdout",
     "output_type": "stream",
     "text": [
      "# Generic requirements\n",
      "numpy\n",
      "pandas\n",
      "\n",
      "# Gather the data\n",
      "mygene\n",
      "xenaPython\n",
      "\n"
     ]
    }
   ],
   "source": [
    "with open('requirements.txt', 'r') as requirements:\n",
    "    print(requirements.read())"
   ]
  },
  {
   "cell_type": "markdown",
   "metadata": {},
   "source": [
    "Which can be installed (under Linux) with :"
   ]
  },
  {
   "cell_type": "code",
   "execution_count": 2,
   "metadata": {},
   "outputs": [],
   "source": [
    "%%capture\n",
    "!pip install -r requirements.txt"
   ]
  },
  {
   "cell_type": "markdown",
   "metadata": {},
   "source": [
    "### Gather the data <a name=\"getting_data\"></a>"
   ]
  },
  {
   "cell_type": "code",
   "execution_count": 3,
   "metadata": {},
   "outputs": [
    {
     "name": "stderr",
     "output_type": "stream",
     "text": [
      "/home/stephane/.local/lib/python3.8/site-packages/xenaPython/__init__.py:110: FutureWarning: Possible nested set at position 7\n",
      "  re.sub(r\"^[^[]+[[]([^]]*)[]].*$\", r\"\\1\", query, flags=re.DOTALL))\n"
     ]
    },
    {
     "name": "stdout",
     "output_type": "stream",
     "text": [
      "querying 1-1000...done.\n",
      "querying 1001-2000...done.\n",
      "querying 2001-3000...done.\n",
      "querying 3001-4000...done.\n",
      "querying 4001-5000...done.\n",
      "querying 5001-6000...done.\n",
      "querying 6001-7000...done.\n",
      "querying 7001-8000...done.\n",
      "querying 8001-9000...done.\n",
      "querying 9001-10000...done.\n",
      "querying 10001-11000...done.\n",
      "querying 11001-12000...done.\n",
      "querying 12001-13000...done.\n",
      "querying 13001-14000...done.\n",
      "querying 14001-15000...done.\n",
      "querying 15001-16000...done.\n",
      "querying 16001-17000...done.\n",
      "querying 17001-18000...done.\n",
      "querying 18001-19000...done.\n",
      "querying 19001-20000...done.\n",
      "querying 20001-21000...done.\n",
      "querying 21001-22000...done.\n",
      "querying 22001-23000...done.\n",
      "querying 23001-24000...done.\n",
      "querying 24001-25000...done.\n",
      "querying 25001-26000...done.\n",
      "querying 26001-27000...done.\n",
      "querying 27001-28000...done.\n",
      "querying 28001-29000...done.\n",
      "querying 29001-30000...done.\n",
      "querying 30001-31000...done.\n",
      "querying 31001-32000...done.\n",
      "querying 32001-33000...done.\n",
      "querying 33001-34000...done.\n",
      "querying 34001-35000...done.\n",
      "querying 35001-36000...done.\n",
      "querying 36001-37000...done.\n",
      "querying 37001-38000...done.\n",
      "querying 38001-39000...done.\n",
      "querying 39001-40000...done.\n",
      "querying 40001-41000...done.\n",
      "querying 41001-42000...done.\n",
      "querying 42001-43000...done.\n",
      "querying 43001-44000...done.\n",
      "querying 44001-45000...done.\n",
      "querying 45001-46000...done.\n",
      "querying 46001-47000...done.\n",
      "querying 47001-48000...done.\n",
      "querying 48001-49000...done.\n",
      "querying 49001-50000...done.\n",
      "querying 50001-51000...done.\n",
      "querying 51001-52000...done.\n",
      "querying 52001-53000...done.\n",
      "querying 53001-54000...done.\n",
      "querying 54001-55000...done.\n",
      "querying 55001-56000...done.\n",
      "querying 56001-57000...done.\n",
      "querying 57001-58000...done.\n",
      "querying 58001-59000...done.\n",
      "querying 59001-60000...done.\n",
      "querying 60001-60483...done.\n",
      "Transcriptomic data for 55511 genes are available\n",
      "0 genes collected in 4.291534423828125e-06 s\n",
      "2000 genes collected in 68.55471277236938 s\n",
      "4000 genes collected in 140.47662162780762 s\n",
      "6000 genes collected in 214.2353093624115 s\n",
      "8000 genes collected in 289.0888121128082 s\n",
      "10000 genes collected in 366.5962824821472 s\n",
      "12000 genes collected in 446.05134773254395 s\n",
      "14000 genes collected in 525.3001897335052 s\n",
      "16000 genes collected in 603.1242051124573 s\n",
      "18000 genes collected in 682.7935998439789 s\n",
      "20000 genes collected in 761.832129240036 s\n",
      "22000 genes collected in 841.0116803646088 s\n",
      "24000 genes collected in 919.795761346817 s\n",
      "26000 genes collected in 998.1371266841888 s\n",
      "28000 genes collected in 1076.820720911026 s\n",
      "30000 genes collected in 1155.6204600334167 s\n",
      "32000 genes collected in 1233.9624960422516 s\n",
      "34000 genes collected in 1317.83464884758 s\n",
      "36000 genes collected in 1394.404897928238 s\n",
      "38000 genes collected in 1473.7652447223663 s\n",
      "40000 genes collected in 1552.4392063617706 s\n",
      "42000 genes collected in 1632.2034041881561 s\n",
      "44000 genes collected in 1709.2401497364044 s\n",
      "46000 genes collected in 1787.3633606433868 s\n",
      "48000 genes collected in 1864.53875374794 s\n",
      "50000 genes collected in 1942.0287625789642 s\n",
      "52000 genes collected in 2026.3533489704132 s\n",
      "54000 genes collected in 2119.867086172104 s\n"
     ]
    }
   ],
   "source": [
    "from gather_data import load_or_download\n",
    "database_filename = \"database_TCGA.csv\" \n",
    "df = load_or_download(database_filename) # Download the dataset the first time, and then just load it"
   ]
  },
  {
   "cell_type": "code",
   "execution_count": 4,
   "metadata": {},
   "outputs": [
    {
     "data": {
      "text/plain": [
       "<bound method NDFrame.head of       expressionPP2672  expressionRNU6-319P  expressionFTH1P24  \\\n",
       "0                0.000                 0.00              0.000   \n",
       "1                7.287                 0.00              0.000   \n",
       "2                0.000                 0.00              0.000   \n",
       "3                7.143                 0.00             10.530   \n",
       "4                0.000                 0.00              0.000   \n",
       "...                ...                  ...                ...   \n",
       "1189             0.000                 0.00             10.890   \n",
       "1190             0.000                 0.00              0.000   \n",
       "1191             0.000                 0.00              9.491   \n",
       "1192             0.000                 0.00              0.000   \n",
       "1193             7.238                11.72              9.629   \n",
       "\n",
       "      expressionBTF3P15  expressionADIPOR1P1  expressionNUTF2P7  \\\n",
       "0                  0.00                0.000              0.000   \n",
       "1                  0.00                0.000             10.980   \n",
       "2                  0.00                8.044              0.000   \n",
       "3                  0.00                0.000              0.000   \n",
       "4                  0.00                0.000             10.170   \n",
       "...                 ...                  ...                ...   \n",
       "1189               0.00                0.000              0.000   \n",
       "1190               0.00                0.000              0.000   \n",
       "1191               0.00                0.000              0.000   \n",
       "1192               0.00                0.000              9.845   \n",
       "1193              10.09                0.000             10.930   \n",
       "\n",
       "      expressionSNORD56  expressionAC011155.1  expressionENTPD3-AS1  \\\n",
       "0                 2.169                   0.0                 15.03   \n",
       "1                 0.000                   0.0                 13.60   \n",
       "2                 1.932                   0.0                 14.36   \n",
       "3                 3.635                   0.0                 13.71   \n",
       "4                 2.079                   0.0                 15.00   \n",
       "...                 ...                   ...                   ...   \n",
       "1189              2.082                   0.0                 14.12   \n",
       "1190              1.811                   0.0                 14.43   \n",
       "1191              1.739                   0.0                 14.95   \n",
       "1192              2.032                   0.0                 14.88   \n",
       "1193              2.090                   0.0                 14.18   \n",
       "\n",
       "      expressionHMGN1P6  ...  expressionMIR196A1  expressionC17orf50  \\\n",
       "0                     0  ...                 0.0              11.980   \n",
       "1                     0  ...                12.4               9.476   \n",
       "2                     0  ...                 0.0              11.960   \n",
       "3                     0  ...                 0.0               9.331   \n",
       "4                     0  ...                 0.0              10.250   \n",
       "...                 ...  ...                 ...                 ...   \n",
       "1189                  0  ...                 0.0              11.270   \n",
       "1190                  0  ...                 0.0               0.000   \n",
       "1191                  0  ...                 0.0               8.292   \n",
       "1192                  0  ...                 0.0               9.927   \n",
       "1193                  0  ...                 0.0               8.429   \n",
       "\n",
       "      expressionRN7SL191P  expressionMYBBP1A  expressionE2F6P1  \\\n",
       "0                     0.0              17.92             0.000   \n",
       "1                     0.0              18.21             0.000   \n",
       "2                     0.0              17.65             0.000   \n",
       "3                     0.0              16.68             0.000   \n",
       "4                     0.0              17.52             0.000   \n",
       "...                   ...                ...               ...   \n",
       "1189                  0.0              17.36             0.000   \n",
       "1190                  0.0              17.83             0.000   \n",
       "1191                  0.0              17.67             8.803   \n",
       "1192                  0.0              18.63             0.000   \n",
       "1193                  0.0              17.40             0.000   \n",
       "\n",
       "      expressionRNU6-621P  expressionMIR302E  expressionRN7SL812P  survival  \\\n",
       "0                    0.00                0.0               12.910       300   \n",
       "1                    0.00                0.0                0.000       584   \n",
       "2                    0.00                0.0                9.984      2311   \n",
       "3                   11.61                0.0                0.000      3607   \n",
       "4                   12.95                0.0               12.180       912   \n",
       "...                   ...                ...                  ...       ...   \n",
       "1189                 0.00                0.0               12.200      8008   \n",
       "1190                 0.00                0.0               12.300        30   \n",
       "1191                 0.00                0.0               12.540        92   \n",
       "1192                 0.00                0.0               12.270       573   \n",
       "1193                 0.00                0.0               11.940      2012   \n",
       "\n",
       "      death  \n",
       "0         0  \n",
       "1         0  \n",
       "2         0  \n",
       "3         0  \n",
       "4         0  \n",
       "...     ...  \n",
       "1189      0  \n",
       "1190      0  \n",
       "1191      0  \n",
       "1192      1  \n",
       "1193      0  \n",
       "\n",
       "[1194 rows x 34798 columns]>"
      ]
     },
     "execution_count": 4,
     "metadata": {},
     "output_type": "execute_result"
    }
   ],
   "source": [
    "df.head"
   ]
  },
  {
   "cell_type": "markdown",
   "metadata": {},
   "source": [
    "Note : Although 55511 genes were listed, the data for \"only\" 37498 genes are available."
   ]
  },
  {
   "cell_type": "markdown",
   "metadata": {},
   "source": [
    "Some ideas :\n",
    "+ Study the gene expression distributions, those who are very expressed, those who aren't...\n",
    "+ Study the correlations among the gene expression\n",
    "+ Study the difference of gene expression (those with the biggest difference for example) between alive patients and dead patients\n",
    " \n",
    " ..."
   ]
  },
  {
   "cell_type": "markdown",
   "metadata": {},
   "source": [
    "### Baseline model <a name=\"baseline_model\"></a>\n",
    "\n",
    "We could use a linear model, and select appropriately the genes of interest, for example with a Lasso-Ridge. The main advantage is that our model would be interpretable, and one could recover the genes of interest."
   ]
  },
  {
   "cell_type": "markdown",
   "metadata": {},
   "source": [
    "## Submission <a name=\"submission\"></a>"
   ]
  },
  {
   "cell_type": "code",
   "execution_count": null,
   "metadata": {},
   "outputs": [],
   "source": []
  }
 ],
 "metadata": {
  "kernelspec": {
   "display_name": "Python 3",
   "language": "python",
   "name": "python3"
  },
  "language_info": {
   "codemirror_mode": {
    "name": "ipython",
    "version": 3
   },
   "file_extension": ".py",
   "mimetype": "text/x-python",
   "name": "python",
   "nbconvert_exporter": "python",
   "pygments_lexer": "ipython3",
   "version": "3.8.6"
  }
 },
 "nbformat": 4,
 "nbformat_minor": 4
}

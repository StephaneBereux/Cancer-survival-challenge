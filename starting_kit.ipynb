{
 "cells": [
  {
   "cell_type": "markdown",
   "metadata": {},
   "source": [
    "# <center>Breast cancer survival prediction</center>"
   ]
  },
  {
   "cell_type": "markdown",
   "metadata": {},
   "source": [
    "### Table of contents\n",
    "\n",
    "1. [Introduction](#introduction)\n",
    "    1. [Survival analysis](#survival_analysis)\n",
    "        1. [A few definitions](#definitions)\n",
    "        2. [The Kaplan-Meier estimator](#kaplan_meier)\n",
    "        3. [The log-rank test](#log_rank_test)\n",
    "        4. [The Cox regression](#cox_regression)\n",
    "2. [Data exploration](#data_exploration)\n",
    "    1. [Python requirements](#python_requirements)\n",
    "    2. [Getting the data](#getting_data)\n",
    "    3. [Baseline model](#baseline_model)\n",
    "3. [Submission](#submission)\n"
   ]
  },
  {
   "cell_type": "markdown",
   "metadata": {},
   "source": [
    "## Introduction <a name=\"introduction\"></a>\n",
    "\n",
    "Breast cancer is one of the most common cancers and the second leading cause of cancer death among women in the United States. One in nine women will be diagnosed with breast cancer in her lifetime ([INCa avril 2016](https://www.ligue-cancer.net/article/26094_cancer-du-sein)). Approximately 70% of breast cancer patients are inoperable because of advanced tumor growth or bone metastasis [Min Tao et al.](https://pubmed.ncbi.nlm.nih.gov/21512769/). \n",
    "\n",
    "It is therefore crucial to be able to accurately diagnose the disease, and to better understand the aggravating factors. Here we propose to predict the survival based on the genetic factors of the tumour.\n",
    "\n",
    "### Survival analysis <a name=\"survival_analysis\"></a>\n",
    "\n",
    "*[Survival analysis](https://en.wikipedia.org/wiki/Survival_analysis)* is a branch of statistics designed to model the life or activity time of a living being or device. Widely used in medicine and particularly in oncology, it allows to process data often *censored* over time. As far as oncology is concerned, for instance, it is inevitable that patients become out of reach or leave the study before the measured event (death, remission, metastasis, etc.): classic statistical tools such as regression are then poorly adapted and may underestimate the lifetimes studied. Here we intend to provide a brief and non-exhaustive overview of basic relevant statistical techniques that might be useful for the rest of the challenge.\n",
    "\n",
    "#### A few definitions <a name=\"definitions\"></a>\n",
    "\n",
    "To make our introduction more readable, we can assume that time is a discrete variable i.e $t \\in \\{1,...,n\\}$ with $n \\in \\mathbb{N}$.\n",
    "\n",
    "\n",
    "Let $ \\tau \\geq 0$ be the random variable giving the time before a relevant event happen. We then wish to estimate the *survival function* $S$ which define  $\\tau$, where $S$ is defined by :\n",
    "$ {\\displaystyle S(t)=\\mathrm {Prob} (\\tau >t)}$\n",
    "\n",
    "\n",
    "We also make the assumption that the censors (the patients leaving the study) are non-informative (e.g. they don't have anything to do with the subject studied, e.g. can be considered random).\n",
    "\n",
    "#### The Kaplan-Meier estimator <a name=\"kaplan_meier\"></a>\n",
    "\n",
    "The Kaplan-Meier estimator is one of the most classic tool of survival analysis. Indeed, it is a non-parametric estimator (eg.g it does not make any assumption on the data distribution accross time), quite simple to implement, and it uses the information from the censored lineage.\n",
    "The Kaplan-Meier estimator can be written : \n",
    "${\\displaystyle {\\hat{S}}(t)=\\prod_{i:t_{i}\\leq t}\\left(1-{\\frac{d_{i}}{n_{i}}}\\right)}$. \n",
    " \n",
    "where $t_i$ is a time when at least one event happened, $d_i$ the number of event at time ${\\displaystyle t_{i}}$ and $n_i$ the individuals still in the study (neither dead nor censored) at time $t_i$.\n",
    "\n",
    "Intuitively, the product to compute ${\\hat{S}}(t)$ is on all time less than t, and thus allows to take into account all patients, even those *censored* before time $t$ because they got out of the reach of the study.\n",
    "\n",
    "\n",
    "Visually, a representation of a Kaplan-Meier estimator gives a decreasing staircase function, depicting an estimation of the survival function $S(t)$ ($S$ is supposed to be constant between two events).\n",
    "\n",
    "By allowing to estimate the survival function of a sample, the Kaplan-Meier estimator enables the comparison between two different samples (for instance between a medicated group and a control group). But to this aim, other methods can be more appropriate.\n",
    "\n",
    "#### The log-rank test <a name=\"log_rank_test\"></a>\n",
    "\n",
    "The log-rank test is a non-parametric hypothesis test allowing to compare the survival functions of two different populations. In practice, it's used to quantify the survival differences between two populations which can be observed by plotting their Kaplan-Meier estimation.\n",
    "\n",
    "Indeed, the log-rank test also allows to take into account censored lineage without loosing to much information.\n",
    "\n",
    "A few notations :\n",
    "\n",
    "For each time j, we write $N_{{1j}}$ and $N_{{2j}}$ the number of patients from each group in each group still studied at time j, and $N_{j}=N_{{1j}}+N_{{2j}}$. Let's write $O_{{1j}}$ and $O_{{2j}}$ the number of events (e.g deaths) in each group happening at time j, and similarly $O_{j}=O_{{1j}}+O_{{2j}}$.\n",
    "\n",
    "The idea of the log-rank test is to test the null hypothesis \"the two population have the same survival function\".\n",
    "\n",
    "Under this hypothesis, $O_{1j}$ follows an hypergeometric law with parameters $N_j$, $N_{1j}$ and $O_j$, and thus with expectation $E_{1j}$ and variance $V_j$.\n",
    "\n",
    "The convergence being garanteed by the Central Limit Theorem (Lyapunov version), we can define the random variable $${\\displaystyle Z={\\frac {\\sum _{j=1}^{J}(O_{1j}-E_{1j})}{\\sqrt {\\sum _{j=1}^{J}V_{j}}}}{\\xrightarrow {\\mathbb{L}}\\ N(0,1).}}$$\n",
    "\n",
    "It is then easy to quantify the ressemblance between the law of $Z$ and a standard normal law to see if the null hypothesis can be rejected.\n",
    "\n",
    "#### The Cox regression<a name=\"cox_regression\"></a>\n",
    "\n",
    "The Cox regression is the equivalent of the logistic regression for survival analysis.\n",
    "Let's define the *hazard rate*\n",
    "$$\\lambda(t)=\\lim _{d t \\rightarrow 0} \\frac{\\operatorname{Pr}(t \\leq T<t+d t)}{d t \\cdot S(t)}=-\\frac{S^{\\prime}(t)}{S(t)}$$\n",
    "defined as the probability of dying at a certain time t given the fact that the patient survived until time t.\n",
    "The Cox regression belong to the class of *proportional hazard models*, that is models which make the assumption that each unit increase for a covariate multiply the hazard rate of the patient by a fixed amount. For instance, taking a certain drug could halve the probability of dying from cancer at each time t.\n",
    "\n",
    "This idea is formalized this way : \n",
    "\n",
    "Let $X_{i}=\\left\\{X_{i 1}, \\ldots X_{i p}\\right\\}$ be the covariate values for a certain patient i.\n",
    "Then we model the hazard rate $\\lambda$ by \n",
    "<p style=\"color:#FF0000\";>$${\\lambda\\left(t | X_{i}\\right)=\\lambda_{0}(t) \\exp \\left(\\beta_{1} X_{i 1}+\\cdots+\\beta_{p} X_{i p}\\right)=\\lambda_{0}(t) \\exp \\left(X_{i} \\cdot \\beta\\right)}$$</p>.\n",
    "\n",
    "Let's  note that only the base hazard rate is time-dependant : the effect of each covariate on the *hazard rate* is assumed to be the same across time.\n",
    "\n",
    "This property is the main \"trick\" of Cox regression : it allows to get rid of the hard-to-estimate hazard rate by taking a ratio. To be more precise, the likelihood of an event to be observed on patient i at time $Y_i$ is $$L_{i}(\\beta)=\\frac{\\lambda\\left(Y_{i} | X_{i}\\right)}{\\sum_{j : Y_{j} \\geq Y_{i}} \\lambda\\left(Y_{i} | X_{j}\\right)}=\\frac{\\lambda_{0}\\left(Y_{i}\\right) \\theta_{i}}{\\sum_{j : Y_{j} \\geq Y_{i}} \\lambda_{0}\\left(Y_{i}\\right) \\theta_{j}}=\\frac{\\theta_{i}}{\\sum_{j : Y_{j} \\geq Y_{i}} \\theta_{j}},$$ with $\\theta_{j}=\\exp \\left(X_{j} \\cdot\\beta\\right)$ and the summation being on all the patient still alive and in the study at time $Y_i$.\n",
    "\n",
    "Skipping the most technical details, the idea is then to model all patients as independant and to maximize the product likekihood."
   ]
  },
  {
   "cell_type": "markdown",
   "metadata": {},
   "source": [
    "# TODO\n",
    "\n",
    "Parler du [survival analysis](https://en.wikipedia.org/wiki/Survival_analysis) , en particulier avec des données censurées à droite (ce qui est notre cas : cela correspond à toutes les données pour lesquelles on a ```event = 0 ```, c'est à dire qu'on a perdu la trace du patient). On peut se baser sur toute la doc de ces deux libraries Python, qui englobe tous les points de notre projet, avec notamment des exemples d'analyse de A à Z, depuis la data exploration jusqu'au choix du modèle et de la métrique : \n",
    "\n",
    "+ scikit-survival\n",
    "+ pysurvival"
   ]
  },
  {
   "cell_type": "markdown",
   "metadata": {},
   "source": [
    "## Data exploration <a name=\"data_exploration\"></a>\n",
    "\n",
    "### Python requirements <a name=\"python_requirements\"></a>\n",
    "\n",
    "In order to collect and analyse the data, the following Python libraries are required :\n",
    "\n"
   ]
  },
  {
   "cell_type": "code",
   "execution_count": 1,
   "metadata": {},
   "outputs": [
    {
     "name": "stdout",
     "output_type": "stream",
     "text": [
      "# Generic requirements\n",
      "numpy\n",
      "pandas\n",
      "\n",
      "# Gather the data\n",
      "mygene\n",
      "xenaPython\n",
      "\n"
     ]
    }
   ],
   "source": [
    "with open('requirements.txt', 'r') as requirements:\n",
    "    print(requirements.read())"
   ]
  },
  {
   "cell_type": "markdown",
   "metadata": {},
   "source": [
    "Which can be installed (under Linux) with :"
   ]
  },
  {
   "cell_type": "code",
   "execution_count": 2,
   "metadata": {},
   "outputs": [],
   "source": [
    "%%capture\n",
    "!pip install -r requirements.txt\n",
    "\n",
    "import pandas as pd\n",
    "import matplotlib.pyplot as plt"
   ]
  },
  {
   "cell_type": "markdown",
   "metadata": {},
   "source": [
    "### Gather the data <a name=\"getting_data\"></a>"
   ]
  },
  {
   "cell_type": "markdown",
   "metadata": {},
   "source": [
    "First, you have to download the data, by running :"
   ]
  },
  {
   "cell_type": "code",
   "execution_count": 4,
   "metadata": {},
   "outputs": [
    {
     "name": "stdout",
     "output_type": "stream",
     "text": [
      "/home/stephane/anaconda3/envs/sb/lib/python3.8/site-packages/xenaPython/__init__.py:110: FutureWarning: Possible nested set at position 7\r\n",
      "  re.sub(r\"^[^[]+[[]([^]]*)[]].*$\", r\"\\1\", query, flags=re.DOTALL))\r\n",
      "data/train were already downloaded.\r\n",
      "data/test were already downloaded.\r\n"
     ]
    }
   ],
   "source": [
    "!python download_data.py"
   ]
  },
  {
   "cell_type": "code",
   "execution_count": 3,
   "metadata": {},
   "outputs": [],
   "source": [
    "from problem import get_train_data, get_test_data\n",
    "X_train, y_train = get_train_data()\n",
    "X_test, y_test = get_test_data()"
   ]
  },
  {
   "cell_type": "markdown",
   "metadata": {},
   "source": [
    "Note : Although 55511 genes were listed, the data for \"only\" 37498 genes are available.\n",
    "\n",
    "We also note the two last columns :\n",
    "\n",
    "+ ```death``` can take two values : \n",
    "    + ```1``` means the patient died\n",
    "    + ```0``` means the patient was censored\n",
    "+ ```time``` is equal to the time of the event (either death or censoring)\n",
    "\n",
    "Thus, instead of having two variables ```X``` and ```y```, we have three variables ```X```, ```y``` and ```E``` constructed as follows :"
   ]
  },
  {
   "cell_type": "code",
   "execution_count": 6,
   "metadata": {},
   "outputs": [
    {
     "data": {
      "text/plain": [
       "0    997\n",
       "1    197\n",
       "Name: death, dtype: int64"
      ]
     },
     "execution_count": 6,
     "metadata": {},
     "output_type": "execute_result"
    }
   ],
   "source": [
    "df['death'].value_counts()\n"
   ]
  },
  {
   "cell_type": "markdown",
   "metadata": {},
   "source": [
    "### A first feature : the correlation with the survival time\n",
    "\n",
    "A first idea would be to select only those genes that are most correlated, in absolute terms, with survival time. To do this, uncensored patients are filtered out and the correlation with survival time of each gene from the remaining patients is computed. "
   ]
  },
  {
   "cell_type": "code",
   "execution_count": 32,
   "metadata": {},
   "outputs": [],
   "source": [
    "X_train.drop(columns=['index'],inplace=True)"
   ]
  },
  {
   "cell_type": "code",
   "execution_count": 35,
   "metadata": {},
   "outputs": [
    {
     "name": "stdout",
     "output_type": "stream",
     "text": [
      "They are 153 uncensored patients\n"
     ]
    }
   ],
   "source": [
    "X_uncensored = X_train[X_train['death']==1]\n",
    "print('They are %i uncensored patients' %len(X_uncensored))"
   ]
  },
  {
   "cell_type": "markdown",
   "metadata": {},
   "source": [
    "We compute the correlation for those patients."
   ]
  },
  {
   "cell_type": "code",
   "execution_count": 36,
   "metadata": {},
   "outputs": [
    {
     "name": "stdout",
     "output_type": "stream",
     "text": [
      "[[   0  931]\n",
      " [   0   21]\n",
      " [   0  702]\n",
      " ...\n",
      " [   1  991]\n",
      " [   0 1742]\n",
      " [   0 1351]]\n"
     ]
    }
   ],
   "source": [
    "print(y_train.values)"
   ]
  },
  {
   "cell_type": "markdown",
   "metadata": {},
   "source": [
    "Some ideas :\n",
    "+ Study the gene expression distributions, those who are very expressed, those who aren't...\n",
    "+ Study the correlations among the gene expression\n",
    "+ Study the difference of gene expression (those with the biggest difference for example) between alive patients and dead patients\n",
    " \n",
    " ..."
   ]
  },
  {
   "cell_type": "code",
   "execution_count": 8,
   "metadata": {},
   "outputs": [],
   "source": [
    "# Building training and testing sets\n",
    "N = len(df1)\n",
    "from sklearn.model_selection import train_test_split\n",
    "index_train, index_test = train_test_split( range(N), test_size = 0.2, random_state=10)\n",
    "data_train = df1.loc[index_train].reset_index( drop = True )\n",
    "data_test  = df1.loc[index_test].reset_index( drop = True )"
   ]
  },
  {
   "cell_type": "code",
   "execution_count": 9,
   "metadata": {},
   "outputs": [
    {
     "name": "stdout",
     "output_type": "stream",
     "text": [
      "0    787\n",
      "1    153\n",
      "Name: death, dtype: int64\n",
      "0    195\n",
      "1     41\n",
      "Name: death, dtype: int64\n"
     ]
    }
   ],
   "source": [
    "print(data_train['death'].value_counts())\n",
    "print(data_test['death'].value_counts())\n",
    "E_train, E_test = data_train.pop('death'), data_test.pop('death')\n",
    "y_train, y_test = data_train.pop('time'), data_test.pop('time')\n",
    "X_train, X_test = data_train, data_test"
   ]
  },
  {
   "cell_type": "code",
   "execution_count": 12,
   "metadata": {},
   "outputs": [
    {
     "name": "stdout",
     "output_type": "stream",
     "text": [
      "Performing Newton-Raphson optimization\n",
      " * Iteration #1 - Loss = 1099.933 - ||grad||^2 = 741.35654\n",
      " * Iteration #2 - Loss = 931.325 - ||grad||^2 = 517.41062\n",
      " * Iteration #3 - Loss = 907.907 - ||grad||^2 = 462.28117\n",
      " * Iteration #4 - Loss = 891.173 - ||grad||^2 = 414.47922\n",
      " * Iteration #5 - Loss = 878.614 - ||grad||^2 = 372.42091\n",
      " * Iteration #6 - Loss = 868.877 - ||grad||^2 = 335.11937\n",
      " * Iteration #7 - Loss = 861.149 - ||grad||^2 = 301.87202\n",
      " * Iteration #8 - Loss = 854.904 - ||grad||^2 = 272.13897\n",
      " * Iteration #9 - Loss = 849.784 - ||grad||^2 = 245.48535\n",
      " * Iteration #10 - Loss = 845.537 - ||grad||^2 = 221.54992\n",
      " * Iteration #11 - Loss = 841.977 - ||grad||^2 = 200.02627\n",
      " * Iteration #12 - Loss = 838.970 - ||grad||^2 = 180.65074\n",
      " * Iteration #13 - Loss = 836.409 - ||grad||^2 = 163.19397\n",
      " * Iteration #14 - Loss = 834.215 - ||grad||^2 = 147.45491\n",
      " * Iteration #15 - Loss = 832.325 - ||grad||^2 = 133.25629\n",
      " * Iteration #16 - Loss = 830.689 - ||grad||^2 = 120.44106\n",
      " * Iteration #17 - Loss = 829.266 - ||grad||^2 = 108.86961\n",
      " * Iteration #18 - Loss = 828.026 - ||grad||^2 = 98.41749\n",
      " * Iteration #19 - Loss = 826.940 - ||grad||^2 = 88.97349\n",
      " * Iteration #20 - Loss = 825.988 - ||grad||^2 = 80.43808\n",
      " * Iteration #21 - Loss = 825.152 - ||grad||^2 = 72.72203\n",
      " * Iteration #22 - Loss = 824.416 - ||grad||^2 = 65.74525\n",
      " * Iteration #23 - Loss = 823.769 - ||grad||^2 = 59.43582\n",
      " * Iteration #24 - Loss = 823.199 - ||grad||^2 = 53.72905\n",
      " * Iteration #25 - Loss = 822.697 - ||grad||^2 = 48.56675\n",
      " * Iteration #26 - Loss = 822.255 - ||grad||^2 = 43.89654\n",
      " * Iteration #27 - Loss = 821.867 - ||grad||^2 = 39.67122\n",
      " * Iteration #28 - Loss = 821.527 - ||grad||^2 = 35.84828\n",
      " * Iteration #29 - Loss = 821.229 - ||grad||^2 = 32.38936\n",
      " * Iteration #30 - Loss = 820.969 - ||grad||^2 = 29.25987\n",
      " * Iteration #31 - Loss = 820.742 - ||grad||^2 = 26.42859\n",
      " * Iteration #32 - Loss = 820.545 - ||grad||^2 = 23.86732\n",
      " * Iteration #33 - Loss = 820.374 - ||grad||^2 = 21.55055\n",
      " * Iteration #34 - Loss = 820.227 - ||grad||^2 = 19.45524\n",
      " * Iteration #35 - Loss = 820.100 - ||grad||^2 = 17.56053\n",
      " * Iteration #36 - Loss = 819.992 - ||grad||^2 = 15.84751\n",
      " * Iteration #37 - Loss = 819.899 - ||grad||^2 = 14.29907\n",
      " * Iteration #38 - Loss = 819.819 - ||grad||^2 = 12.89970\n",
      " * Iteration #39 - Loss = 819.752 - ||grad||^2 = 11.63532\n",
      " * Iteration #40 - Loss = 819.695 - ||grad||^2 = 10.49316\n",
      " * Iteration #41 - Loss = 819.647 - ||grad||^2 = 9.46166\n",
      " * Iteration #42 - Loss = 819.607 - ||grad||^2 = 8.53029\n",
      " * Iteration #43 - Loss = 819.573 - ||grad||^2 = 7.68953\n",
      " * Iteration #44 - Loss = 819.545 - ||grad||^2 = 6.93072\n",
      " * Iteration #45 - Loss = 819.521 - ||grad||^2 = 6.24603\n",
      " * Iteration #46 - Loss = 819.502 - ||grad||^2 = 5.62832\n",
      " * Iteration #47 - Loss = 819.485 - ||grad||^2 = 5.07117\n",
      " * Iteration #48 - Loss = 819.472 - ||grad||^2 = 4.56871\n",
      " * Iteration #49 - Loss = 819.461 - ||grad||^2 = 4.11566\n",
      " * Iteration #50 - Loss = 819.452 - ||grad||^2 = 3.70723\n",
      " * Iteration #51 - Loss = 819.444 - ||grad||^2 = 3.33907\n",
      " * Iteration #52 - Loss = 819.438 - ||grad||^2 = 3.00726\n",
      " * Iteration #53 - Loss = 819.433 - ||grad||^2 = 2.70824\n",
      " * Iteration #54 - Loss = 819.428 - ||grad||^2 = 2.43881\n",
      " * Iteration #55 - Loss = 819.425 - ||grad||^2 = 2.19607\n",
      " * Iteration #56 - Loss = 819.422 - ||grad||^2 = 1.97739\n",
      " * Iteration #57 - Loss = 819.420 - ||grad||^2 = 1.78041\n",
      " * Iteration #58 - Loss = 819.418 - ||grad||^2 = 1.60298\n",
      " * Iteration #59 - Loss = 819.416 - ||grad||^2 = 1.44319\n",
      " * Iteration #60 - Loss = 819.415 - ||grad||^2 = 1.29927\n",
      " * Iteration #61 - Loss = 819.414 - ||grad||^2 = 1.16968\n",
      " * Iteration #62 - Loss = 819.413 - ||grad||^2 = 1.05298\n",
      " * Iteration #63 - Loss = 819.413 - ||grad||^2 = 0.94790\n",
      " * Iteration #64 - Loss = 819.412 - ||grad||^2 = 0.85329\n",
      " * Iteration #65 - Loss = 819.412 - ||grad||^2 = 0.76810\n",
      " * Iteration #66 - Loss = 819.411 - ||grad||^2 = 0.69141\n",
      " * Iteration #67 - Loss = 819.411 - ||grad||^2 = 0.62236\n",
      " * Iteration #68 - Loss = 819.411 - ||grad||^2 = 0.56020\n",
      " * Iteration #69 - Loss = 819.410 - ||grad||^2 = 0.50425\n",
      " * Iteration #70 - Loss = 819.410 - ||grad||^2 = 0.45387\n",
      " * Iteration #71 - Loss = 819.410 - ||grad||^2 = 0.40853\n",
      " * Iteration #72 - Loss = 819.410 - ||grad||^2 = 0.36771\n",
      " * Iteration #73 - Loss = 819.410 - ||grad||^2 = 0.33096\n",
      " * Iteration #74 - Loss = 819.410 - ||grad||^2 = 0.29789\n",
      " * Iteration #75 - Loss = 819.410 - ||grad||^2 = 0.26812\n",
      " * Iteration #76 - Loss = 819.410 - ||grad||^2 = 0.24132\n",
      " * Iteration #77 - Loss = 819.410 - ||grad||^2 = 0.21720\n",
      " * Iteration #78 - Loss = 819.410 - ||grad||^2 = 0.19549\n",
      " * Iteration #79 - Loss = 819.410 - ||grad||^2 = 0.17595\n",
      " * Iteration #80 - Loss = 819.410 - ||grad||^2 = 0.15836\n",
      " * Iteration #81 - Loss = 819.410 - ||grad||^2 = 0.14253\n",
      " * Iteration #82 - Loss = 819.410 - ||grad||^2 = 0.12828\n",
      " * Iteration #83 - Loss = 819.410 - ||grad||^2 = 0.11545\n",
      " * Iteration #84 - Loss = 819.410 - ||grad||^2 = 0.10391\n",
      " * Iteration #85 - Loss = 819.410 - ||grad||^2 = 0.09352\n",
      " * Iteration #86 - Loss = 819.410 - ||grad||^2 = 0.08417\n",
      " * Iteration #87 - Loss = 819.410 - ||grad||^2 = 0.07576\n",
      " * Iteration #88 - Loss = 819.410 - ||grad||^2 = 0.06818\n",
      " * Iteration #89 - Loss = 819.410 - ||grad||^2 = 0.06136\n",
      " * Iteration #90 - Loss = 819.410 - ||grad||^2 = 0.05523\n",
      " * Iteration #91 - Loss = 819.410 - ||grad||^2 = 0.04971\n",
      " * Iteration #92 - Loss = 819.410 - ||grad||^2 = 0.04474\n",
      " * Iteration #93 - Loss = 819.410 - ||grad||^2 = 0.04026\n",
      " * Iteration #94 - Loss = 819.410 - ||grad||^2 = 0.03624\n",
      " * Iteration #95 - Loss = 819.410 - ||grad||^2 = 0.03261\n",
      " * Iteration #96 - Loss = 819.410 - ||grad||^2 = 0.02935\n",
      " * Iteration #97 - Loss = 819.410 - ||grad||^2 = 0.02642\n",
      " * Iteration #98 - Loss = 819.410 - ||grad||^2 = 0.02378\n",
      " * Iteration #99 - Loss = 819.410 - ||grad||^2 = 0.02140\n",
      " * Iteration #100 - Loss = 819.410 - ||grad||^2 = 0.01926\n",
      " * Iteration #101 - Loss = 819.410 - ||grad||^2 = 0.01733\n",
      " * Iteration #102 - Loss = 819.410 - ||grad||^2 = 0.01560\n",
      " * Iteration #103 - Loss = 819.410 - ||grad||^2 = 0.01404\n",
      " * Iteration #104 - Loss = 819.410 - ||grad||^2 = 0.01264\n",
      " * Iteration #105 - Loss = 819.410 - ||grad||^2 = 0.01137\n",
      " * Iteration #106 - Loss = 819.410 - ||grad||^2 = 0.01024\n",
      " * Iteration #107 - Loss = 819.410 - ||grad||^2 = 0.00921\n",
      " * Iteration #108 - Loss = 819.410 - ||grad||^2 = 0.00829\n",
      " * Iteration #109 - Loss = 819.410 - ||grad||^2 = 0.00746\n",
      " * Iteration #110 - Loss = 819.410 - ||grad||^2 = 0.00672\n",
      " * Iteration #111 - Loss = 819.410 - ||grad||^2 = 0.00604\n",
      " * Iteration #112 - Loss = 819.410 - ||grad||^2 = 0.00544\n",
      " * Iteration #113 - Loss = 819.410 - ||grad||^2 = 0.00490\n",
      " * Iteration #114 - Loss = 819.410 - ||grad||^2 = 0.00441\n",
      " * Iteration #115 - Loss = 819.410 - ||grad||^2 = 0.00397\n",
      " * Iteration #116 - Loss = 819.410 - ||grad||^2 = 0.00357\n",
      " * Iteration #117 - Loss = 819.410 - ||grad||^2 = 0.00321\n",
      " * Iteration #118 - Loss = 819.410 - ||grad||^2 = 0.00289\n",
      " * Iteration #119 - Loss = 819.410 - ||grad||^2 = 0.00260\n",
      " * Iteration #120 - Loss = 819.410 - ||grad||^2 = 0.00234\n",
      " * Iteration #121 - Loss = 819.410 - ||grad||^2 = 0.00211\n",
      " * Iteration #122 - Loss = 819.410 - ||grad||^2 = 0.00190\n",
      " * Iteration #123 - Loss = 819.410 - ||grad||^2 = 0.00171\n",
      " * Iteration #124 - Loss = 819.410 - ||grad||^2 = 0.00154\n",
      " * Iteration #125 - Loss = 819.410 - ||grad||^2 = 0.00138\n",
      " * Iteration #126 - Loss = 819.410 - ||grad||^2 = 0.00124\n",
      " * Iteration #127 - Loss = 819.410 - ||grad||^2 = 0.00112\n",
      " * Iteration #128 - Loss = 819.410 - ||grad||^2 = 0.00101\n",
      " * Iteration #129 - Loss = 819.410 - ||grad||^2 = 0.00091\n",
      "Converged after 129 iterations.\n",
      "C-index: 0.56\n",
      "IBS: 0.161967612\n"
     ]
    },
    {
     "data": {
      "image/png": "[encoded data removed]",
      "text/plain": [
       "<Figure size 1440x468 with 1 Axes>"
      ]
     },
     "metadata": {
      "needs_background": "light"
     },
     "output_type": "display_data"
    }
   ],
   "source": [
    "from pysurvival.models.survival_forest import ConditionalSurvivalForestModel\n",
    "from pysurvival.models.semi_parametric import CoxPHModel\n",
    "from pysurvival.utils.metrics import concordance_index\n",
    "from pysurvival.utils.metrics import integrated_brier_score as ib_score\n",
    "from pysurvival.utils.display import integrated_brier_score\n",
    "from sklearn.decomposition import PCA\n",
    "from sklearn.linear_model import LinearRegression\n",
    "\n",
    "pca = PCA(n_components=10)\n",
    "pca.fit(X_train)\n",
    "X_train_transformed = pca.transform(X_train)\n",
    "X_test_transformed = pca.transform(X_test)\n",
    "\n",
    "#lr = LinearRegression().fit(X_train, y_train)\n",
    "#c_index = concordance_index(lr, X_test_transformed, y_test, E_test)\n",
    "#print('C-index: {:.2f}'.format(c_index)) #0.1\n",
    "#ibs = ib_score(lr, X_test_transformed, y_test, E_test, t_max=max_time)\n",
    "#print(ibs)\n",
    "\n",
    "coxph = CoxPHModel()\n",
    "coxph.fit(X_train_transformed, y_train, E_train, lr=0.1, l2_reg=1e-1, max_iter=1000)\n",
    "c_index = concordance_index(coxph, X_test_transformed, y_test, E_test)\n",
    "print('C-index: {:.2f}'.format(c_index)) #0.1\n",
    "ibs = ib_score(coxph, X_test_transformed, y_test, E_test, t_max=max_time)\n",
    "print('IBS: {:.9f}'.format(ibs)) \n",
    "integrated_brier_score(coxph, X_test_transformed, y_test, E_test, t_max=max_time, figure_size=(20, 6.5))\n",
    "\n",
    "# Fitting the model\n",
    "csf = ConditionalSurvivalForestModel(num_trees=10)\n",
    "csf.fit(X_train_transformed, y_train, E_train, max_features='sqrt')\n",
    "\n",
    "from pysurvival.utils.display import display_loss_values\n",
    "#display_loss_values(csf, figure_size=(7, 4))\n"
   ]
  },
  {
   "cell_type": "code",
   "execution_count": 50,
   "metadata": {},
   "outputs": [
    {
     "name": "stderr",
     "output_type": "stream",
     "text": [
      "% Completion:   0%|                                                           |\r"
     ]
    },
    {
     "name": "stdout",
     "output_type": "stream",
     "text": [
      "[0.0]\n"
     ]
    },
    {
     "name": "stderr",
     "output_type": "stream",
     "text": [
      "% Completion: 100%|***********************************************|Loss: 887.24\n"
     ]
    },
    {
     "name": "stdout",
     "output_type": "stream",
     "text": [
      "[   0.           24.63115578   49.26231156   73.89346734   98.52462312\n",
      "  123.15577889  147.78693467  172.41809045  197.04924623  221.68040201\n",
      "  246.31155779  270.94271357  295.57386935  320.20502513  344.8361809\n",
      "  369.46733668  394.09849246  418.72964824  443.36080402  467.9919598\n",
      "  492.62311558  517.25427136  541.88542714  566.51658291  591.14773869\n",
      "  615.77889447  640.41005025  665.04120603  689.67236181  714.30351759\n",
      "  738.93467337  763.56582915  788.19698492  812.8281407   837.45929648\n",
      "  862.09045226  886.72160804  911.35276382  935.9839196   960.61507538\n",
      "  985.24623116 1009.87738693 1034.50854271 1059.13969849 1083.77085427\n",
      " 1108.40201005 1133.03316583 1157.66432161 1182.29547739 1206.92663317\n",
      " 1231.55778894 1256.18894472 1280.8201005  1305.45125628 1330.08241206\n",
      " 1354.71356784 1379.34472362 1403.9758794  1428.60703518 1453.23819095\n",
      " 1477.86934673 1502.50050251 1527.13165829 1551.76281407 1576.39396985\n",
      " 1601.02512563 1625.65628141 1650.28743719 1674.91859296 1699.54974874\n",
      " 1724.18090452 1748.8120603  1773.44321608 1798.07437186 1822.70552764\n",
      " 1847.33668342 1871.9678392  1896.59899497 1921.23015075 1945.86130653\n",
      " 1970.49246231 1995.12361809 2019.75477387 2044.38592965 2069.01708543\n",
      " 2093.64824121 2118.27939698 2142.91055276 2167.54170854 2192.17286432\n",
      " 2216.8040201  2241.43517588 2266.06633166 2290.69748744 2315.32864322\n",
      " 2339.95979899 2364.59095477 2389.22211055 2413.85326633 2438.48442211\n",
      " 2463.11557789 2487.74673367 2512.37788945 2537.00904523 2561.64020101\n",
      " 2586.27135678 2610.90251256 2635.53366834 2660.16482412 2684.7959799\n",
      " 2709.42713568 2734.05829146 2758.68944724 2783.32060302 2807.95175879\n",
      " 2832.58291457 2857.21407035 2881.84522613 2906.47638191 2931.10753769\n",
      " 2955.73869347 2980.36984925 3005.00100503 3029.6321608  3054.26331658\n",
      " 3078.89447236 3103.52562814 3128.15678392 3152.7879397  3177.41909548\n",
      " 3202.05025126 3226.68140704 3251.31256281 3275.94371859 3300.57487437\n",
      " 3325.20603015 3349.83718593 3374.46834171 3399.09949749 3423.73065327\n",
      " 3448.36180905 3472.99296482 3497.6241206  3522.25527638 3546.88643216\n",
      " 3571.51758794 3596.14874372 3620.7798995  3645.41105528 3670.04221106\n",
      " 3694.67336683 3719.30452261 3743.93567839 3768.56683417 3793.19798995\n",
      " 3817.82914573 3842.46030151 3867.09145729 3891.72261307 3916.35376884\n",
      " 3940.98492462 3965.6160804  3990.24723618 4014.87839196 4039.50954774\n",
      " 4064.14070352 4088.7718593  4113.40301508 4138.03417085 4162.66532663\n",
      " 4187.29648241 4211.92763819 4236.55879397 4261.18994975 4285.82110553\n",
      " 4310.45226131 4335.08341709 4359.71457286 4384.34572864 4408.97688442\n",
      " 4433.6080402  4458.23919598 4482.87035176 4507.50150754 4532.13266332\n",
      " 4556.7638191  4581.39497487 4606.02613065 4630.65728643 4655.28844221\n",
      " 4679.91959799 4704.55075377 4729.18190955 4753.81306533 4778.44422111\n",
      " 4803.07537688 4827.70653266 4852.33768844 4876.96884422 4901.6       ]\n",
      "C-index: 0.60\n",
      "IBS: 0.164765850\n"
     ]
    },
    {
     "data": {
      "image/png": "[encoded data removed]",
      "text/plain": [
       "<Figure size 1440x468 with 1 Axes>"
      ]
     },
     "metadata": {
      "needs_background": "light"
     },
     "output_type": "display_data"
    },
    {
     "data": {
      "text/plain": [
       "0.16476584981993214"
      ]
     },
     "execution_count": 50,
     "metadata": {},
     "output_type": "execute_result"
    }
   ],
   "source": [
    "from pysurvival.models.multi_task import LinearMultiTaskModel\n",
    "import numpy as np\n",
    "lmtm = LinearMultiTaskModel(bins=200)\n",
    "lmtm.fit(X_train_transformed, y_train, E_train, lr=0.0001, l2_reg=1e-1,num_epochs=1000)\n",
    "print(lmtm.times)\n",
    "c_index = concordance_index(lmtm, X_test_transformed, y_test, E_test)\n",
    "print('C-index: {:.2f}'.format(c_index)) #0.1\n",
    "ibs = ib_score(lmtm, X_test_transformed, y_test, E_test, t_max=max_time)\n",
    "print('IBS: {:.9f}'.format(ibs)) \n",
    "integrated_brier_score(lmtm, X_test_transformed, y_test, E_test, t_max=max_time, figure_size=(20, 6.5))"
   ]
  },
  {
   "cell_type": "code",
   "execution_count": 53,
   "metadata": {},
   "outputs": [
    {
     "ename": "AttributeError",
     "evalue": "'numpy.ndarray' object has no attribute 'predict_survival'",
     "output_type": "error",
     "traceback": [
      "\u001b[0;31m---------------------------------------------------------------------------\u001b[0m",
      "\u001b[0;31mAttributeError\u001b[0m                            Traceback (most recent call last)",
      "\u001b[0;32m<ipython-input-53-2e667a263775>\u001b[0m in \u001b[0;36m<module>\u001b[0;34m\u001b[0m\n\u001b[1;32m      1\u001b[0m \u001b[0mi\u001b[0m \u001b[0;34m=\u001b[0m \u001b[0mlmtm\u001b[0m\u001b[0;34m.\u001b[0m\u001b[0mpredict_survival\u001b[0m\u001b[0;34m(\u001b[0m\u001b[0mX_test_transformed\u001b[0m\u001b[0;34m)\u001b[0m\u001b[0;34m\u001b[0m\u001b[0;34m\u001b[0m\u001b[0m\n\u001b[0;32m----> 2\u001b[0;31m \u001b[0mibs\u001b[0m \u001b[0;34m=\u001b[0m \u001b[0mib_score\u001b[0m\u001b[0;34m(\u001b[0m\u001b[0mi\u001b[0m\u001b[0;34m,\u001b[0m \u001b[0mX_test_transformed\u001b[0m\u001b[0;34m,\u001b[0m \u001b[0my_test\u001b[0m\u001b[0;34m,\u001b[0m \u001b[0mE_test\u001b[0m\u001b[0;34m,\u001b[0m \u001b[0mt_max\u001b[0m\u001b[0;34m=\u001b[0m\u001b[0mmax_time\u001b[0m\u001b[0;34m)\u001b[0m\u001b[0;34m\u001b[0m\u001b[0;34m\u001b[0m\u001b[0m\n\u001b[0m",
      "\u001b[0;32m~/anaconda3/envs/sb/lib/python3.8/site-packages/pysurvival/utils/metrics.py\u001b[0m in \u001b[0;36mintegrated_brier_score\u001b[0;34m(model, X, T, E, t_max, use_mean_point)\u001b[0m\n\u001b[1;32m    172\u001b[0m \u001b[0;34m\u001b[0m\u001b[0m\n\u001b[1;32m    173\u001b[0m     \u001b[0;31m# Computing the brier scores\u001b[0m\u001b[0;34m\u001b[0m\u001b[0;34m\u001b[0m\u001b[0;34m\u001b[0m\u001b[0m\n\u001b[0;32m--> 174\u001b[0;31m     \u001b[0mtimes\u001b[0m\u001b[0;34m,\u001b[0m \u001b[0mbrier_scores\u001b[0m \u001b[0;34m=\u001b[0m \u001b[0mbrier_score\u001b[0m\u001b[0;34m(\u001b[0m\u001b[0mmodel\u001b[0m\u001b[0;34m,\u001b[0m \u001b[0mX\u001b[0m\u001b[0;34m,\u001b[0m \u001b[0mT\u001b[0m\u001b[0;34m,\u001b[0m \u001b[0mE\u001b[0m\u001b[0;34m,\u001b[0m \u001b[0mt_max\u001b[0m\u001b[0;34m,\u001b[0m \u001b[0muse_mean_point\u001b[0m\u001b[0;34m)\u001b[0m\u001b[0;34m\u001b[0m\u001b[0;34m\u001b[0m\u001b[0m\n\u001b[0m\u001b[1;32m    175\u001b[0m \u001b[0;34m\u001b[0m\u001b[0m\n\u001b[1;32m    176\u001b[0m     \u001b[0;31m# Getting the proper value of t_max\u001b[0m\u001b[0;34m\u001b[0m\u001b[0;34m\u001b[0m\u001b[0;34m\u001b[0m\u001b[0m\n",
      "\u001b[0;32m~/anaconda3/envs/sb/lib/python3.8/site-packages/pysurvival/utils/metrics.py\u001b[0m in \u001b[0;36mbrier_score\u001b[0;34m(model, X, T, E, t_max, use_mean_point, **kwargs)\u001b[0m\n\u001b[1;32m    142\u001b[0m \u001b[0;34m\u001b[0m\u001b[0m\n\u001b[1;32m    143\u001b[0m     \u001b[0;31m# computing the Survival function\u001b[0m\u001b[0;34m\u001b[0m\u001b[0;34m\u001b[0m\u001b[0;34m\u001b[0m\u001b[0m\n\u001b[0;32m--> 144\u001b[0;31m     \u001b[0mSurvival\u001b[0m \u001b[0;34m=\u001b[0m \u001b[0mmodel\u001b[0m\u001b[0;34m.\u001b[0m\u001b[0mpredict_survival\u001b[0m\u001b[0;34m(\u001b[0m\u001b[0mX\u001b[0m\u001b[0;34m,\u001b[0m \u001b[0;32mNone\u001b[0m\u001b[0;34m,\u001b[0m \u001b[0;34m**\u001b[0m\u001b[0mkwargs\u001b[0m\u001b[0;34m)\u001b[0m\u001b[0;34m\u001b[0m\u001b[0;34m\u001b[0m\u001b[0m\n\u001b[0m\u001b[1;32m    145\u001b[0m \u001b[0;34m\u001b[0m\u001b[0m\n\u001b[1;32m    146\u001b[0m     \u001b[0;31m# Extracting the time buckets\u001b[0m\u001b[0;34m\u001b[0m\u001b[0;34m\u001b[0m\u001b[0;34m\u001b[0m\u001b[0m\n",
      "\u001b[0;31mAttributeError\u001b[0m: 'numpy.ndarray' object has no attribute 'predict_survival'"
     ]
    }
   ],
   "source": [
    "i = lmtm.predict_survival(X_test_transformed)\n",
    "ibs = ib_score(i, X_test_transformed, y_test, E_test, t_max=max_time)"
   ]
  },
  {
   "cell_type": "code",
   "execution_count": 62,
   "metadata": {},
   "outputs": [
    {
     "name": "stdout",
     "output_type": "stream",
     "text": [
      "     death  time\n",
      "0        0   931\n",
      "1        0    21\n",
      "2        0   702\n",
      "3        0   435\n",
      "4        0    11\n",
      "..     ...   ...\n",
      "935      0  1004\n",
      "936      0   149\n",
      "937      1   991\n",
      "938      0  1742\n",
      "939      0  1351\n",
      "\n",
      "[940 rows x 2 columns]\n"
     ]
    }
   ],
   "source": [
    "df_to_melt = pd.concat([E_train, y_train], axis=1)\n",
    "print(df_to_melt)"
   ]
  },
  {
   "cell_type": "code",
   "execution_count": 107,
   "metadata": {},
   "outputs": [],
   "source": [
    "import pdb as pdb\n",
    "def to_structured_array(E_df, y_df):\n",
    "    E = E_df.to_numpy().astype(bool)\n",
    "    y = y_df.to_numpy()\n",
    "    w = np.column_stack((E, y))\n",
    "    w = w.ravel().view([('event', w[0].dtype), ('time', y.dtype)]).astype('bool, <i8')\n",
    "    return w"
   ]
  },
  {
   "cell_type": "code",
   "execution_count": 111,
   "metadata": {
    "scrolled": true
   },
   "outputs": [
    {
     "name": "stdout",
     "output_type": "stream",
     "text": [
      "(0.9999324283449557, 4218, 0, 2, 2)\n"
     ]
    }
   ],
   "source": [
    "from sksurv.metrics import concordance_index_ipcw\n",
    "risk = lmtm.predict_risk(X_test_transformed)\n",
    "s_train, s_test = to_structured_array(E_train, y_train), to_structured_array(E_test, y_test)\n",
    "concordance_index_ipcw(s_train, s_test, risk)\n",
    "test_risk = - y_test + 4500\n",
    "print(concordance_index_ipcw(s_train, s_test, test_risk))"
   ]
  },
  {
   "cell_type": "code",
   "execution_count": null,
   "metadata": {},
   "outputs": [],
   "source": [
    "from pysurvival.utils.metrics import concordance_index\n",
    "c_index = concordance_index(csf, X_test_transformed, y_test, E_test)\n",
    "print('C-index: {:.2f}'.format(c_index)) #0.92"
   ]
  },
  {
   "cell_type": "code",
   "execution_count": null,
   "metadata": {},
   "outputs": [],
   "source": [
    "from pysurvival.utils.display import integrated_brier_score\n",
    "ibs = integrated_brier_score(csf, X_test_transformed, y_test, E_test, t_max=10000,\n",
    "                       figure_size=(20, 6.5) )\n",
    "print('IBS: {:.9f}'.format(ibs)) #0.92"
   ]
  },
  {
   "cell_type": "markdown",
   "metadata": {},
   "source": [
    "### Baseline model <a name=\"baseline_model\"></a>\n",
    "\n"
   ]
  },
  {
   "cell_type": "code",
   "execution_count": null,
   "metadata": {},
   "outputs": [],
   "source": []
  },
  {
   "cell_type": "markdown",
   "metadata": {},
   "source": [
    "## Metric\n",
    "\n",
    "We could use Integrated Brier Score (https://square.github.io/pysurvival/metrics/brier_score.html)\n",
    "\n"
   ]
  },
  {
   "cell_type": "markdown",
   "metadata": {},
   "source": [
    "## Submission <a name=\"submission\"></a>"
   ]
  },
  {
   "cell_type": "code",
   "execution_count": null,
   "metadata": {},
   "outputs": [],
   "source": []
  }
 ],
 "metadata": {
  "kernelspec": {
   "display_name": "Python 3",
   "language": "python",
   "name": "python3"
  },
  "language_info": {
   "codemirror_mode": {
    "name": "ipython",
    "version": 3
   },
   "file_extension": ".py",
   "mimetype": "text/x-python",
   "name": "python",
   "nbconvert_exporter": "python",
   "pygments_lexer": "ipython3",
   "version": "3.8.5"
  }
 },
 "nbformat": 4,
 "nbformat_minor": 4
}

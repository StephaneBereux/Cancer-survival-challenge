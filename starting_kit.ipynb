{
 "cells": [
  {
   "cell_type": "markdown",
   "metadata": {},
   "source": [
    "# <center>Breast cancer survival prediction</center>"
   ]
  },
  {
   "cell_type": "markdown",
   "metadata": {},
   "source": [
    "### Table of contents\n",
    "\n",
    "1. [Introduction](#introduction)\n",
    "    1. [Survival analysis](#survival_analysis)\n",
    "2. [Data exploration](#data_exploration)\n",
    "    1. [Python requirements](#python_requirements)\n",
    "    2. [Getting the data](#getting_data)\n",
    "    3. [Baseline model](#baseline_model)\n",
    "3. [Submission](#submission)\n"
   ]
  },
  {
   "cell_type": "markdown",
   "metadata": {},
   "source": [
    "## Introduction <a name=\"introduction\"></a>\n",
    "\n",
    "Breast cancer is one of the most common cancers and the second leading cause of cancer death among women in the United States. One in nine women will be diagnosed with breast cancer in her lifetime ([INCa avril 2016](https://www.ligue-cancer.net/article/26094_cancer-du-sein)). Approximately 70% of breast cancer patients are inoperable because of advanced tumor growth or bone metastasis [Min Tao et al.](https://pubmed.ncbi.nlm.nih.gov/21512769/). \n",
    "\n",
    "It is therefore crucial to be able to accurately diagnose the disease, and to better understand the aggravating factors. Here we propose to predict the survival based on the genetic factors of the tumour.\n",
    "\n",
    "### Survival analysis<a name=\"survival_analysis\"></a>\n",
    "\n",
    "*[Survival analysis](https://en.wikipedia.org/wiki/Survival_analysis)* is a branch of statistics designed to model the life or activity time of a living being or device. Widely used in medicine and particularly in oncology, it allows to process data often *censored* over time. As far as oncology is concerned, for instance, it is inevitable that patients become out of reach or leave the study before the measured event (death, remission, metastasis, etc.): classic statistical tools such as regression are then poorly adapted and may underestimate the lifetimes studied. Here we intend to provide a brief and non-exhaustive overview of basic relevant statistical techniques that might be useful for the rest of the challenge.\n",
    "\n",
    "#### A few definitions\n",
    "\n",
    "To make our introduction more readable, we can assume that time is a discrete variable i.e $t \\in \\{1,...,n\\}$ with $n \\in \\mathbb{N}$.\n",
    "\n",
    "\n",
    "Let $ \\tau \\geq 0$ be the random variable giving the time before a relevant event happen. We then wish to estimate the *survival function* $S$ which define  $\\tau$, where $S$ is defined by :\n",
    "$ {\\displaystyle S(t)=\\mathrm {Prob} (\\tau >t)}$\n",
    "\n",
    "\n",
    "We also make the assumption that the censors (the patients leaving the study) are non-informative (e.g. they don't have anything to do with the subject studied, e.g. can be considered random)."
   ]
  },
  {
   "cell_type": "markdown",
   "metadata": {},
   "source": [
    "# TODO\n",
    "\n",
    "Parler du [survival analysis](https://en.wikipedia.org/wiki/Survival_analysis) , en particulier avec des données censurées à droite (ce qui est notre cas : cela correspond à toutes les données pour lesquelles on a ```event = 0 ```, c'est à dire qu'on a perdu la trace du patient). On peut se baser sur toute la doc de ces deux libraries Python, qui englobe tous les points de notre projet, avec notamment des exemples d'analyse de A à Z, depuis la data exploration jusqu'au choix du modèle et de la métrique : \n",
    "\n",
    "+ scikit-survival\n",
    "+ pysurvival"
   ]
  },
  {
   "cell_type": "markdown",
   "metadata": {},
   "source": [
    "## Data exploration <a name=\"data_exploration\"></a>\n",
    "\n",
    "### Python requirements <a name=\"python_requirements\"></a>\n",
    "\n",
    "In order to collect and analyse the data, the following Python libraries are required :\n",
    "\n"
   ]
  },
  {
   "cell_type": "code",
   "execution_count": 1,
   "metadata": {},
   "outputs": [
    {
     "name": "stdout",
     "output_type": "stream",
     "text": [
      "# Generic requirements\n",
      "numpy\n",
      "pandas\n",
      "\n",
      "# Gather the data\n",
      "mygene\n",
      "xenaPython\n",
      "\n"
     ]
    }
   ],
   "source": [
    "with open('requirements.txt', 'r') as requirements:\n",
    "    print(requirements.read())"
   ]
  },
  {
   "cell_type": "markdown",
   "metadata": {},
   "source": [
    "Which can be installed (under Linux) with :"
   ]
  },
  {
   "cell_type": "code",
   "execution_count": 2,
   "metadata": {},
   "outputs": [],
   "source": [
    "%%capture\n",
    "!pip install -r requirements.txt"
   ]
  },
  {
   "cell_type": "markdown",
   "metadata": {},
   "source": [
    "### Gather the data <a name=\"getting_data\"></a>\n",
    "We "
   ]
  },
  {
   "cell_type": "code",
   "execution_count": 3,
   "metadata": {},
   "outputs": [
    {
     "name": "stderr",
     "output_type": "stream",
     "text": [
      "/home/stephane/.local/lib/python3.9/site-packages/xenaPython/__init__.py:110: FutureWarning: Possible nested set at position 7\n",
      "  re.sub(r\"^[^[]+[[]([^]]*)[]].*$\", r\"\\1\", query, flags=re.DOTALL))\n"
     ]
    },
    {
     "name": "stdout",
     "output_type": "stream",
     "text": [
      "querying 1-1000...done.\n",
      "querying 1001-2000...done.\n",
      "querying 2001-3000...done.\n",
      "querying 3001-4000...done.\n",
      "querying 4001-5000...done.\n",
      "querying 5001-6000...done.\n",
      "querying 6001-7000...done.\n",
      "querying 7001-8000...done.\n",
      "querying 8001-9000...done.\n",
      "querying 9001-10000...done.\n",
      "querying 10001-11000...done.\n",
      "querying 11001-12000...done.\n",
      "querying 12001-13000...done.\n",
      "querying 13001-14000...done.\n",
      "querying 14001-15000...done.\n",
      "querying 15001-16000...done.\n",
      "querying 16001-17000...done.\n",
      "querying 17001-18000...done.\n",
      "querying 18001-19000...done.\n",
      "querying 19001-20000...done.\n",
      "querying 20001-21000...done.\n",
      "querying 21001-22000...done.\n",
      "querying 22001-23000...done.\n",
      "querying 23001-24000...done.\n",
      "querying 24001-25000...done.\n",
      "querying 25001-26000...done.\n",
      "querying 26001-27000...done.\n",
      "querying 27001-28000...done.\n",
      "querying 28001-29000...done.\n",
      "querying 29001-30000...done.\n",
      "querying 30001-31000...done.\n",
      "querying 31001-32000...done.\n",
      "querying 32001-33000...done.\n",
      "querying 33001-34000...done.\n",
      "querying 34001-35000...done.\n",
      "querying 35001-36000...done.\n",
      "querying 36001-37000...done.\n",
      "querying 37001-38000...done.\n",
      "querying 38001-39000...done.\n",
      "querying 39001-40000...done.\n",
      "querying 40001-41000...done.\n",
      "querying 41001-42000...done.\n",
      "querying 42001-43000...done.\n",
      "querying 43001-44000...done.\n",
      "querying 44001-45000...done.\n",
      "querying 45001-46000...done.\n",
      "querying 46001-47000...done.\n",
      "querying 47001-48000...done.\n",
      "querying 48001-49000...done.\n",
      "querying 49001-50000...done.\n",
      "querying 50001-51000...done.\n",
      "querying 51001-52000...done.\n",
      "querying 52001-53000...done.\n",
      "querying 53001-54000...done.\n",
      "querying 54001-55000...done.\n",
      "querying 55001-56000...done.\n",
      "querying 56001-57000...done.\n",
      "querying 57001-58000...done.\n",
      "querying 58001-59000...done.\n",
      "querying 59001-60000...done.\n",
      "querying 60001-60483...done.\n",
      "We collect the data for 55511 genes.\n",
      "0 genes collected in 9.5367431640625e-06 s\n",
      "2000 genes collected in 79.13872122764587 s\n",
      "4000 genes collected in 154.31153464317322 s\n",
      "6000 genes collected in 228.4677221775055 s\n",
      "8000 genes collected in 301.84594893455505 s\n",
      "10000 genes collected in 375.8699667453766 s\n",
      "12000 genes collected in 460.93770956993103 s\n",
      "14000 genes collected in 541.6000521183014 s\n",
      "16000 genes collected in 618.4949338436127 s\n",
      "18000 genes collected in 694.4931752681732 s\n",
      "20000 genes collected in 770.3141610622406 s\n",
      "22000 genes collected in 844.438089132309 s\n",
      "24000 genes collected in 917.1815536022186 s\n",
      "26000 genes collected in 991.7069847583771 s\n",
      "28000 genes collected in 1064.5747985839844 s\n",
      "30000 genes collected in 1135.3314218521118 s\n",
      "32000 genes collected in 1207.5342955589294 s\n",
      "34000 genes collected in 1279.0863955020905 s\n",
      "36000 genes collected in 1355.2399520874023 s\n",
      "38000 genes collected in 1431.5663640499115 s\n",
      "40000 genes collected in 1506.7735784053802 s\n",
      "42000 genes collected in 1586.8745756149292 s\n",
      "44000 genes collected in 1664.5027148723602 s\n",
      "46000 genes collected in 1742.1464462280273 s\n",
      "48000 genes collected in 1817.4989931583405 s\n",
      "50000 genes collected in 1891.656144618988 s\n",
      "52000 genes collected in 1964.638380765915 s\n",
      "54000 genes collected in 2037.8664455413818 s\n"
     ]
    }
   ],
   "source": [
    "from problem import load_or_download\n",
    "database_filename = \"database_TCGA.csv\" \n",
    "df = load_or_download(database_filename) # Download the dataset the first time, and then just load it"
   ]
  },
  {
   "cell_type": "code",
   "execution_count": 4,
   "metadata": {},
   "outputs": [
    {
     "data": {
      "text/plain": [
       "<bound method NDFrame.head of       expressionNUCB1-AS1  expressionHNRNPA1P76  expressionIGKV2OR2-1  \\\n",
       "0                  10.270                 0.000                 0.000   \n",
       "1                   0.000                 8.803                11.280   \n",
       "2                  11.350                 9.381                 9.861   \n",
       "3                   0.000                 8.658                 0.000   \n",
       "4                  10.960                 0.000                10.470   \n",
       "...                   ...                   ...                   ...   \n",
       "1189                9.987                 0.000                12.080   \n",
       "1190                0.000                 0.000                 0.000   \n",
       "1191                0.000                 0.000                 0.000   \n",
       "1192                0.000                 0.000                12.150   \n",
       "1193                0.000                 8.754                11.230   \n",
       "\n",
       "      expressionRP1L1  expressionRNF152P1  expressionKIR3DP1  \\\n",
       "0               7.921               0.000                0.0   \n",
       "1               9.501              11.290                0.0   \n",
       "2               7.322               8.872                0.0   \n",
       "3               9.356               9.147                0.0   \n",
       "4               8.778               9.485                0.0   \n",
       "...               ...                 ...                ...   \n",
       "1189            5.656               0.000                0.0   \n",
       "1190            8.730               0.000                0.0   \n",
       "1191            7.554               9.105                0.0   \n",
       "1192            9.280               9.159                0.0   \n",
       "1193            8.366              11.240                0.0   \n",
       "\n",
       "      expressionMIR6769A  expressionGGT7  expressionRNU6-793P  \\\n",
       "0                   0.00           17.61                  0.0   \n",
       "1                   0.00           17.30                  0.0   \n",
       "2                   0.00           17.39                  0.0   \n",
       "3                   0.00           16.51                  0.0   \n",
       "4                   0.00           16.83                  0.0   \n",
       "...                  ...             ...                  ...   \n",
       "1189               12.55           17.00                  0.0   \n",
       "1190                0.00           14.10                  0.0   \n",
       "1191               12.15           17.53                  0.0   \n",
       "1192                0.00           16.25                  0.0   \n",
       "1193               12.29           17.23                  0.0   \n",
       "\n",
       "      expressionRPLP1P11  ...  expressionSEMA6A-AS1  expressionFAM98C  \\\n",
       "0                      0  ...                12.810             16.70   \n",
       "1                      0  ...                11.060             14.88   \n",
       "2                      0  ...                11.290             15.87   \n",
       "3                      0  ...                13.550             15.45   \n",
       "4                      0  ...                11.160             16.48   \n",
       "...                  ...  ...                   ...               ...   \n",
       "1189                   0  ...                12.280             16.35   \n",
       "1190                   0  ...                11.770             15.87   \n",
       "1191                   0  ...                11.520             15.77   \n",
       "1192                   0  ...                 7.934             16.33   \n",
       "1193                   0  ...                12.470             16.76   \n",
       "\n",
       "      expressionNDEL1  expressionAC100821.1  expressionARHGAP31-AS1  \\\n",
       "0               16.59                   0.0                   13.65   \n",
       "1               16.23                   0.0                   15.26   \n",
       "2               16.18                   0.0                   13.07   \n",
       "3               16.58                   0.0                   12.10   \n",
       "4               16.33                   0.0                   12.44   \n",
       "...               ...                   ...                     ...   \n",
       "1189            16.57                   0.0                   12.92   \n",
       "1190            16.41                   0.0                    9.56   \n",
       "1191            16.71                   0.0                   12.23   \n",
       "1192            17.13                   0.0                   11.43   \n",
       "1193            15.66                   0.0                   12.78   \n",
       "\n",
       "      expressionTCEANC2  expressionRPS14P7  expressionRNU7-107P  survival  \\\n",
       "0                 14.60                0.0                 0.00       300   \n",
       "1                 14.82                0.0                 0.00       584   \n",
       "2                 14.46                0.0                 0.00      2311   \n",
       "3                 14.94                0.0                 0.00      3607   \n",
       "4                 15.77                0.0                 0.00       912   \n",
       "...                 ...                ...                  ...       ...   \n",
       "1189              14.77                0.0                 0.00      8008   \n",
       "1190              15.16                0.0                 0.00        30   \n",
       "1191              14.81                0.0                 0.00        92   \n",
       "1192              14.77                0.0                12.46       573   \n",
       "1193              14.70                0.0                 0.00      2012   \n",
       "\n",
       "      death  \n",
       "0         0  \n",
       "1         0  \n",
       "2         0  \n",
       "3         0  \n",
       "4         0  \n",
       "...     ...  \n",
       "1189      0  \n",
       "1190      0  \n",
       "1191      0  \n",
       "1192      1  \n",
       "1193      0  \n",
       "\n",
       "[1194 rows x 34796 columns]>"
      ]
     },
     "execution_count": 4,
     "metadata": {},
     "output_type": "execute_result"
    }
   ],
   "source": [
    "df.head"
   ]
  },
  {
   "cell_type": "markdown",
   "metadata": {},
   "source": [
    "Note : Although 55511 genes were listed, the data for \"only\" 37498 genes are available."
   ]
  },
  {
   "cell_type": "markdown",
   "metadata": {},
   "source": [
    "Some ideas :\n",
    "+ Study the gene expression distributions, those who are very expressed, those who aren't...\n",
    "+ Study the correlations among the gene expression\n",
    "+ Study the difference of gene expression (those with the biggest difference for example) between alive patients and dead patients\n",
    " \n",
    " ..."
   ]
  },
  {
   "cell_type": "markdown",
   "metadata": {},
   "source": [
    "### Baseline model <a name=\"baseline_model\"></a>\n",
    "\n"
   ]
  },
  {
   "cell_type": "markdown",
   "metadata": {},
   "source": [
    "## Metric\n",
    "\n",
    "We could use Integrated Brier Score (https://square.github.io/pysurvival/metrics/brier_score.html)\n",
    "\n"
   ]
  },
  {
   "cell_type": "markdown",
   "metadata": {},
   "source": [
    "## Submission <a name=\"submission\"></a>"
   ]
  },
  {
   "cell_type": "code",
   "execution_count": null,
   "metadata": {},
   "outputs": [],
   "source": []
  }
 ],
 "metadata": {
  "kernelspec": {
   "display_name": "Python 3",
   "language": "python",
   "name": "python3"
  },
  "language_info": {
   "codemirror_mode": {
    "name": "ipython",
    "version": 3
   },
   "file_extension": ".py",
   "mimetype": "text/x-python",
   "name": "python",
   "nbconvert_exporter": "python",
   "pygments_lexer": "ipython3",
   "version": "3.9.1"
  }
 },
 "nbformat": 4,
 "nbformat_minor": 4
}
